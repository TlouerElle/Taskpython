{
 "cells": [
  {
   "cell_type": "code",
   "execution_count": 1,
   "metadata": {
    "collapsed": true
   },
   "outputs": [],
   "source": [
    "from pywebio.output import put_html\n",
    "import csv\n",
    "from pyecharts.charts import Bar, Pie, Tab\n",
    "from pyecharts import options as opts"
   ]
  },
  {
   "cell_type": "code",
   "execution_count": null,
   "outputs": [],
   "source": [
    "nationDict = {}\n",
    "with open(r'D:\\pythonProject\\Fortune500\\Fortune500After.csv', encoding='utf-8') as jd:\n",
    "    for i in range(1):\n",
    "        jd.readline()  # 跳过第一行\n",
    "    for row in csv.reader(jd):\n",
    "        if row[4] not in nationDict:\n",
    "            nationDict[row[4]] = 1\n",
    "        else:\n",
    "            nationDict[row[4]] += 1\n",
    "nationValueList = []\n",
    "nationKeyList = []\n",
    "for key in nationDict:\n",
    "    nationValueList.append(nationDict[key])\n",
    "    nationKeyList.append(key)\n",
    "bar1 = Bar()\n",
    "bar1.add_xaxis(nationKeyList)\n",
    "bar1.add_yaxis(\"世界500强数量\", nationValueList)\n",
    "bar1.set_global_opts(title_opts=opts.TitleOpts(title=\"各个国家拥有世界500强企业\"),\n",
    "                    xaxis_opts=opts.AxisOpts(name_rotate=60, axislabel_opts={\"rotate\": 45}))\n",
    "\n",
    "bar1.render_notebook()"
   ],
   "metadata": {
    "collapsed": false
   }
  },
  {
   "cell_type": "code",
   "execution_count": null,
   "outputs": [],
   "source": [
    "nationDict = {}\n",
    "with open(r'Fortune500After.csv', encoding='utf-8') as jd:\n",
    "    for i in range(1):\n",
    "        jd.readline()  # 跳过第一行\n",
    "    for row in csv.reader(jd):\n",
    "        if row[4] not in nationDict:\n",
    "            nationDict[row[4]] = 1\n",
    "        else:\n",
    "            nationDict[row[4]] += 1\n",
    "nationValueList = []\n",
    "nationKeyList = []\n",
    "for key in nationDict:\n",
    "    nationValueList.append(nationDict[key])\n",
    "    nationKeyList.append(key)\n",
    "pie = Pie()\n",
    "pie.add('数量', [list(z) for z in zip(nationKeyList, nationValueList)], radius='45%', center=[\"50%\", \"65%\"])\n",
    "pie.render_notebook()"
   ],
   "metadata": {
    "collapsed": false
   }
  },
  {
   "cell_type": "code",
   "execution_count": null,
   "outputs": [],
   "source": [
    "company = []\n",
    "income = []\n",
    "profit = []\n",
    "proportion = []\n",
    "with open(r'Fortune500After.csv', encoding='utf-8') as jd:\n",
    "    for i in range(1):\n",
    "        jd.readline()  # 跳过第一行\n",
    "    for row in csv.reader(jd):\n",
    "        try:\n",
    "            if float(row[3]) > 0:\n",
    "                company.append(row[1])\n",
    "                income.append(float(row[2]))\n",
    "                profit.append(float(row[3]))\n",
    "                temp = float(row[3]) / float(row[2]) * 100\n",
    "                proportion.append(temp)\n",
    "        except Exception:\n",
    "            pass\n",
    "bar2 = Bar(init_opts=opts.InitOpts(width='4000px', height='30000px'))\n",
    "bar2.add_xaxis(company)\n",
    "bar2.add_yaxis(\"营业收入\", income)\n",
    "bar2.add_yaxis(\"利润\", profit)\n",
    "# bar.add_yaxis(\"利润占营业收入\", proportion)\n",
    "bar2.reversal_axis()\n",
    "bar2.set_series_opts(label_opts=opts.LabelOpts(position=\"right\"))\n",
    "bar2.set_global_opts(title_opts=opts.TitleOpts(title=\"营业收入与利润（不包括利润小于0）\"))\n",
    "bar2.render_notebook()"
   ],
   "metadata": {
    "collapsed": false
   }
  },
  {
   "cell_type": "code",
   "execution_count": null,
   "outputs": [],
   "source": [
    "company = []\n",
    "proportion = []\n",
    "with open(r'Fortune500After.csv', encoding='utf-8') as jd:\n",
    "    for i in range(1):\n",
    "        jd.readline()  # 跳过第一行\n",
    "    for row in csv.reader(jd):\n",
    "        try:\n",
    "            if float(row[3]) > 0:\n",
    "                company.append(row[1])\n",
    "                temp = float(row[3]) / float(row[2]) * 100\n",
    "                proportion.append(temp)\n",
    "        except Exception:\n",
    "            pass\n",
    "bar3 = Bar(init_opts=opts.InitOpts(width='4000px', height='30000px'))\n",
    "bar3.add_xaxis(company)\n",
    "bar3.add_yaxis(\"利润率\", proportion)\n",
    "bar3.reversal_axis()\n",
    "bar3.set_series_opts(label_opts=opts.LabelOpts(position=\"right\"))\n",
    "bar3.set_global_opts(title_opts=opts.TitleOpts(title=\"利润率分析（不包括利润小于0）\"))\n",
    "bar3.render_notebook()"
   ],
   "metadata": {
    "collapsed": false
   }
  },
  {
   "cell_type": "code",
   "execution_count": null,
   "outputs": [],
   "source": [
    "tab = Tab()\n",
    "tab.add(bar1, '各个国家拥有世界500强企业')\n",
    "tab.add(pie, '各个国家拥有世界500强企业')\n",
    "tab.add(bar2, '营业收入与利润（不包括利润小于0')\n",
    "tab.add(bar3, '利润率分析（不包括利润小于0）')\n",
    "tab.render()"
   ],
   "metadata": {
    "collapsed": false
   }
  }
 ],
 "metadata": {
  "kernelspec": {
   "display_name": "Python 3",
   "language": "python",
   "name": "python3"
  },
  "language_info": {
   "codemirror_mode": {
    "name": "ipython",
    "version": 2
   },
   "file_extension": ".py",
   "mimetype": "text/x-python",
   "name": "python",
   "nbconvert_exporter": "python",
   "pygments_lexer": "ipython2",
   "version": "2.7.6"
  }
 },
 "nbformat": 4,
 "nbformat_minor": 0
}
